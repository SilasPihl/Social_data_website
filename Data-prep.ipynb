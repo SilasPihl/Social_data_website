{
 "cells": [
  {
   "cell_type": "code",
   "execution_count": 33,
   "metadata": {
    "collapsed": true
   },
   "outputs": [],
   "source": [
    "import pandas\n",
    "import numpy\n",
    "import math\n",
    "import operator"
   ]
  },
  {
   "cell_type": "code",
   "execution_count": 3,
   "metadata": {},
   "outputs": [
    {
     "name": "stderr",
     "output_type": "stream",
     "text": [
      "C:\\ProgramData\\Anaconda3\\lib\\site-packages\\IPython\\core\\interactiveshell.py:2698: DtypeWarning: Columns (17) have mixed types. Specify dtype option on import or set low_memory=False.\n",
      "  interactivity=interactivity, compiler=compiler, result=result)\n"
     ]
    }
   ],
   "source": [
    "data_frame = pandas.read_csv('NYPD_Complaint_Data_Historic.csv', sep=',')"
   ]
  },
  {
   "cell_type": "code",
   "execution_count": 10,
   "metadata": {
    "collapsed": true
   },
   "outputs": [],
   "source": [
    "manhattan_count = 0\n",
    "bronx_count = 0\n",
    "queens_count = 0\n",
    "brooklyn_count = 0\n",
    "staten_count = 0\n",
    "total_count = 0"
   ]
  },
  {
   "cell_type": "code",
   "execution_count": 11,
   "metadata": {
    "scrolled": true
   },
   "outputs": [],
   "source": [
    "for i in data_frame.BORO_NM:\n",
    "    if (i == 'BRONX'):\n",
    "        bronx_count = bronx_count + 1\n",
    "        total_count = total_count + 1\n",
    "    elif (i == 'QUEENS'):\n",
    "        queens_count = queens_count + 1\n",
    "        total_count = total_count + 1\n",
    "    elif (i == 'MANHATTAN'):\n",
    "        manhattan_count = manhattan_count + 1\n",
    "        total_count = total_count + 1\n",
    "    elif (i == 'BROOKLYN'):\n",
    "        brooklyn_count = brooklyn_count + 1\n",
    "        total_count = total_count + 1\n",
    "    elif (i == 'STATEN ISLAND'):\n",
    "        staten_count = staten_count + 1\n",
    "        total_count = total_count + 1\n",
    "        "
   ]
  },
  {
   "cell_type": "code",
   "execution_count": 15,
   "metadata": {},
   "outputs": [
    {
     "name": "stdout",
     "output_type": "stream",
     "text": [
      "Manhattan: 1331760\n",
      "Bronx: 1209647\n",
      "Queens: 1105621\n",
      "Brooklyn: 1666903\n",
      "Staten: 265641\n",
      "Total: 5579572\n"
     ]
    }
   ],
   "source": [
    "print(\"Manhattan: \"+str(manhattan_count))\n",
    "print(\"Bronx: \"+str(bronx_count))\n",
    "print(\"Queens: \"+str(queens_count))\n",
    "print(\"Brooklyn: \"+str(brooklyn_count))\n",
    "print(\"Staten: \"+str(staten_count))\n",
    "print(\"Total: \"+str(total_count))"
   ]
  },
  {
   "cell_type": "code",
   "execution_count": 16,
   "metadata": {},
   "outputs": [
    {
     "name": "stdout",
     "output_type": "stream",
     "text": [
      "Manhattan: 0.23868497440305458\n",
      "Bronx: 0.2167992455335284\n",
      "Queens: 0.19815516315588363\n",
      "Brooklyn: 0.2987510511558951\n",
      "Staten: 0.0476095657516383\n",
      "Total: 1.0\n"
     ]
    }
   ],
   "source": [
    "manhattan_norm = manhattan_count/total_count\n",
    "bronx_norm = bronx_count/total_count\n",
    "queens_norm = queens_count/total_count\n",
    "brooklyn_norm = brooklyn_count/total_count\n",
    "staten_norm = staten_count/total_count\n",
    "total_norm = total_count/total_count\n",
    "\n",
    "print(\"Manhattan: \"+str(manhattan_norm))\n",
    "print(\"Bronx: \"+str(bronx_norm))\n",
    "print(\"Queens: \"+str(queens_norm))\n",
    "print(\"Brooklyn: \"+str(brooklyn_norm))\n",
    "print(\"Staten: \"+str(staten_norm))\n",
    "print(\"Total: \"+str(total_norm))"
   ]
  },
  {
   "cell_type": "code",
   "execution_count": null,
   "metadata": {
    "collapsed": true
   },
   "outputs": [],
   "source": []
  },
  {
   "cell_type": "code",
   "execution_count": 47,
   "metadata": {},
   "outputs": [
    {
     "name": "stdout",
     "output_type": "stream",
     "text": [
      "37208\n"
     ]
    }
   ],
   "source": [
    "first_word = \"\"\n",
    "crimes = dict()\n",
    "for index, row in data_frame.iterrows():\n",
    "    i = row.PD_DESC\n",
    "    if(pandas.isnull(i) or row.BORO_NM != 'MANHATTAN'):\n",
    "        continue\n",
    "    month = row.CMPLNT_FR_DT\n",
    "    if(pandas.isnull(month)):\n",
    "        continue\n",
    "    month = month.replace(\"/\", \" \")\n",
    "    month = month.split(' ', 1)[0]\n",
    "    i = i.replace(\",\", \" \")\n",
    "    first_word = i.split(' ', 1)[0]\n",
    "    both = first_word+month\n",
    "    if first_word in crimes:\n",
    "        crimes[first_word] += 1\n",
    "    else:\n",
    "        crimes[first_word] = 1\n",
    "    if both in crimes:\n",
    "        crimes[both] += 1\n",
    "    else:\n",
    "        crimes[both] = 1\n",
    "\n",
    "newA = dict(sorted(crimes.items(), key=operator.itemgetter(1), reverse=True)[:5])"
   ]
  },
  {
   "cell_type": "code",
   "execution_count": 56,
   "metadata": {},
   "outputs": [
    {
     "name": "stdout",
     "output_type": "stream",
     "text": [
      "{'LARCENY': 477645, 'HARASSMENT': 134253, 'ASSAULT': 130372, 'AGGRAVATED': 64176, 'CRIMINAL': 59950}\n"
     ]
    }
   ],
   "source": [
    "print(newA)\n",
    "larceny = []\n",
    "harassment = []\n",
    "assault = []\n",
    "aggravated = []\n",
    "criminal = []\n",
    "\n",
    "def addData(crimes, name, rang):\n",
    "    list = []\n",
    "    for i in range(1,(rang+1)):\n",
    "        if(i < 10):\n",
    "            list.append(crimes[name+\"0\"+str(i)])\n",
    "        else:\n",
    "            list.append(crimes[name+str(i)])\n",
    "    return list\n",
    "\n",
    "larceny = addData(crimes, \"LARCENY\", 12)\n",
    "harassment = addData(crimes, \"HARASSMENT\", 12)\n",
    "assault = addData(crimes, \"ASSAULT\", 12)\n",
    "aggravated = addData(crimes, \"AGGRAVATED\", 12)\n",
    "criminal = addData(crimes, \"CRIMINAL\", 12)\n"
   ]
  }
 ],
 "metadata": {
  "kernelspec": {
   "display_name": "Python 2",
   "language": "python",
   "name": "python2"
  },
  "language_info": {
   "codemirror_mode": {
    "name": "ipython",
    "version": 2
   },
   "file_extension": ".py",
   "mimetype": "text/x-python",
   "name": "python",
   "nbconvert_exporter": "python",
   "pygments_lexer": "ipython2",
   "version": "2.7.14"
  }
 },
 "nbformat": 4,
 "nbformat_minor": 2
}
